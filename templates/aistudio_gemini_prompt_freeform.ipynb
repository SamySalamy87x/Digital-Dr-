{
  "cells": [
    {
      "cell_type": "markdown",
      "metadata": {
        "id": "view-in-github",
        "colab_type": "text"
      },
      "source": [
        "<a href=\"https://colab.research.google.com/github/SamySalamy87x/Digital-Dr-/blob/main/templates/aistudio_gemini_prompt_freeform.ipynb\" target=\"_parent\"><img src=\"https://colab.research.google.com/assets/colab-badge.svg\" alt=\"Open In Colab\"/></a>"
      ]
    },
    {
      "cell_type": "markdown",
      "metadata": {
        "id": "Tce3stUlHN0L"
      },
      "source": [
        "##### Copyright 2023 Google LLC"
      ]
    },
    {
      "cell_type": "code",
      "execution_count": null,
      "metadata": {
        "cellView": "form",
        "id": "tuOe1ymfHZPu"
      },
      "outputs": [],
      "source": [
        "# @title Licensed under the Apache License, Version 2.0 (the \"License\");\n",
        "# you may not use this file except in compliance with the License.\n",
        "# You may obtain a copy of the License at\n",
        "#\n",
        "# https://www.apache.org/licenses/LICENSE-2.0\n",
        "#\n",
        "# Unless required by applicable law or agreed to in writing, software\n",
        "# distributed under the License is distributed on an \"AS IS\" BASIS,\n",
        "# WITHOUT WARRANTIES OR CONDITIONS OF ANY KIND, either express or implied.\n",
        "# See the License for the specific language governing permissions and\n",
        "# limitations under the License."
      ]
    },
    {
      "cell_type": "markdown",
      "metadata": {
        "id": "FKwyTRdwB8aW"
      },
      "source": [
        "## Setup"
      ]
    },
    {
      "cell_type": "code",
      "execution_count": null,
      "metadata": {
        "id": "RXInneX6xx7c"
      },
      "outputs": [],
      "source": [
        "!pip install -U -q \"google-generativeai>=0.8.2\""
      ]
    },
    {
      "cell_type": "code",
      "execution_count": 1,
      "metadata": {
        "cellView": "form",
        "id": "kWIuwKG2_oWE",
        "colab": {
          "base_uri": "https://localhost:8080/"
        },
        "outputId": "a88f60de-f539-43e9-8f23-6757fd57dc0d"
      },
      "outputs": [
        {
          "output_type": "stream",
          "name": "stdout",
          "text": [
            "[\n",
            "    {\n",
            "        \"role\": \"user\",\n",
            "        \"parts\": [\n",
            "            {\n",
            "                \"text\": \"realiza la mejor app de asistencia medica para doctores y pacientes que puedas crear contempla estos requerimientos y anexa las mejores apps y funciones que tengas en tus sistemas e integralos para que sean funcionales entre si \\\\nConsultas m\\u00e9dicas preliminares.\\\\nRespuestas autom\\u00e1ticas a s\\u00edntomas comunes.\\\\nAgendamiento de citas.\\\\nIntegraci\\u00f3n con herramientas de IA para diagn\\u00f3sticos\"\n",
            "            }\n",
            "        ]\n",
            "    },\n",
            "    {\n",
            "        \"role\": \"model\",\n",
            "        \"parts\": [\n",
            "            {\n",
            "                \"text\": \"##  MediAssist: La Aplicaci\\u00f3n Integral de Asistencia M\\u00e9dica\\\\n\\\\nMediAssist es una aplicaci\\u00f3n m\\u00f3vil dise\\u00f1ada para mejorar la experiencia de atenci\\u00f3n m\\u00e9dica tanto para m\\u00e9dicos como para pacientes, integrando consultas preliminares, respuestas autom\\u00e1ticas a s\\u00edntomas, agendamiento de citas y herramientas de IA para diagn\\u00f3sticos, todo en una plataforma segura y eficiente.\\\\n\\\\n**I. M\\u00f3dulo para Pacientes:**\\\\n\\\\n* **Registro y Perfil:**  Registro seguro con autenticaci\\u00f3n multifactor (correo electr\\u00f3nico, SMS, autenticaci\\u00f3n biom\\u00e9trica).  Almacenamiento seguro de la historia cl\\u00ednica del paciente (con acceso controlado).  Integraci\\u00f3n con wearables para monitorizar datos de salud (frecuencia card\\u00edaca, sue\\u00f1o, etc.).\\\\n\\\\n* **Consultas M\\u00e9dicas Preliminares:**  El paciente describe sus s\\u00edntomas a trav\\u00e9s de un formulario estructurado o chat.  La aplicaci\\u00f3n utiliza un sistema de procesamiento de lenguaje natural (PNL) para entender la consulta y ofrecer una respuesta preliminar basada en una base de datos de s\\u00edntomas y enfermedades comunes.\\\\n\\\\n* **Respuestas Autom\\u00e1ticas a S\\u00edntomas Comunes:**  Un chatbot impulsado por IA (ej.  utilizando modelos como GPT-4 o similares, entrenados con datos m\\u00e9dicos verificados) proporciona respuestas basadas en evidencia a s\\u00edntomas comunes.  Incluye descargos de responsabilidad y recomendaciones para buscar atenci\\u00f3n m\\u00e9dica profesional si es necesario.  El chatbot puede diferenciar entre emergencias y situaciones menos urgentes.\\\\n\\\\n* **Agendamiento de Citas:**  Sistema de agendamiento de citas con diferentes m\\u00e9dicos y especialidades.  Posibilidad de seleccionar la fecha, hora y m\\u00e9todo de consulta (presencial, virtual).  Recordatorios de citas a trav\\u00e9s de notificaciones push.  Integraci\\u00f3n con calendarios personales (Google Calendar, Apple Calendar).\\\\n\\\\n* **Historia Cl\\u00ednica Digital:**  Acceso a la historia cl\\u00ednica completa del paciente, incluyendo informes m\\u00e9dicos, resultados de pruebas, im\\u00e1genes m\\u00e9dicas (con encriptaci\\u00f3n y seguridad HIPAA compliant).\\\\n\\\\n* **Mensajer\\u00eda Segura con el M\\u00e9dico:**  Sistema de mensajer\\u00eda encriptada para comunicarse con el m\\u00e9dico, realizar preguntas y compartir informaci\\u00f3n relevante.\\\\n\\\\n* **Integraci\\u00f3n con Herramientas de IA para Diagn\\u00f3sticos:**  La aplicaci\\u00f3n puede integrar herramientas de IA para el an\\u00e1lisis de im\\u00e1genes m\\u00e9dicas (radiograf\\u00edas, resonancias magn\\u00e9ticas) y la interpretaci\\u00f3n de datos de salud para asistir al diagn\\u00f3stico m\\u00e9dico. (ej. herramientas de an\\u00e1lisis de im\\u00e1genes m\\u00e9dicas disponibles a trav\\u00e9s de APIs de empresas como Google Cloud Healthcare API o Amazon Comprehend Medical).   **Es crucial destacar que esta funcionalidad NO reemplaza el diagn\\u00f3stico de un m\\u00e9dico profesional y solo debe utilizarse como herramienta de apoyo.**\\\\n\\\\n* **Telemedicina:**  Integraci\\u00f3n con plataformas de videollamadas seguras para realizar consultas virtuales con los m\\u00e9dicos.\\\\n\\\\n\\\\n**II. M\\u00f3dulo para M\\u00e9dicos:**\\\\n\\\\n* **Panel de Control:**  Acceso a la agenda, lista de pacientes, mensajes y solicitudes de citas.\\\\n\\\\n* **Gesti\\u00f3n de Pacientes:**  Acceso a la historia cl\\u00ednica de los pacientes, capacidad de a\\u00f1adir notas, diagn\\u00f3sticos y planes de tratamiento.\\\\n\\\\n* **Sistema de Mensajer\\u00eda Segura:**  Comunicaci\\u00f3n encriptada con los pacientes.\\\\n\\\\n* **Agendamiento de Citas:**  Gesti\\u00f3n de la agenda m\\u00e9dica, posibilidad de configurar horarios de atenci\\u00f3n y disponibilidad.\\\\n\\\\n* **Integraci\\u00f3n con Herramientas de IA:**  Acceso a las herramientas de IA para el an\\u00e1lisis de im\\u00e1genes m\\u00e9dicas y datos del paciente, como herramienta de apoyo al diagn\\u00f3stico.  **Con \\u00e9nfasis en que la decisi\\u00f3n final siempre reside en el profesional m\\u00e9dico.**\\\\n\\\\n* **Informes y Estad\\u00edsticas:**  Generaci\\u00f3n de informes sobre la actividad m\\u00e9dica, pacientes atendidos y otros datos relevantes.\\\\n\\\\n* **Administraci\\u00f3n de la Cuenta:**  Gesti\\u00f3n del perfil del m\\u00e9dico, informaci\\u00f3n de contacto y configuraci\\u00f3n de la cuenta.\\\\n\\\\n\\\\n**III.  Integraciones y Tecnolog\\u00edas:**\\\\n\\\\n* **Seguridad:**  Cumplimiento de HIPAA y otras regulaciones de privacidad de datos m\\u00e9dicos.  Encriptaci\\u00f3n de datos en reposo y en tr\\u00e1nsito.  Autenticaci\\u00f3n multifactor.\\\\n\\\\n* **Base de Datos:**  Base de datos segura y escalable (ej.  PostgreSQL, MongoDB).\\\\n\\\\n* **APIs:**  Uso de APIs para la integraci\\u00f3n con herramientas de IA, calendarios, plataformas de pago y otros servicios.\\\\n\\\\n* **Plataformas:**  Desarrollo nativo para iOS y Android para asegurar la mejor experiencia de usuario.\\\\n\\\\n* **Notificaciones Push:**  Para recordar citas, mensajes y actualizaciones importantes.\\\\n\\\\n\\\\n**IV.  Consideraciones \\u00c9ticas y Legales:**\\\\n\\\\n* **Transparencia:**  Informar claramente a los pacientes sobre el uso de la IA en el diagn\\u00f3stico.\\\\n* **Responsabilidad:**  Establecer claramente la responsabilidad del m\\u00e9dico en el diagn\\u00f3stico y tratamiento.\\\\n* **Privacidad:**  Cumplir con las regulaciones de privacidad de datos.\\\\n* **Precisi\\u00f3n:**  Garantizar la precisi\\u00f3n de la informaci\\u00f3n proporcionada por la aplicaci\\u00f3n.\\\\n\\\\n\\\\nMediAssist se concibe como una plataforma en constante evoluci\\u00f3n, con actualizaciones regulares y la adici\\u00f3n de nuevas funcionalidades basadas en la retroalimentaci\\u00f3n de usuarios y avances tecnol\\u00f3gicos.  Su objetivo es facilitar la atenci\\u00f3n m\\u00e9dica, mejorar la eficiencia y fortalecer la relaci\\u00f3n entre m\\u00e9dicos y pacientes.  La integraci\\u00f3n de la IA debe ser siempre responsable y \\u00e9tica, actuando como una herramienta de apoyo al profesional m\\u00e9dico, no como un reemplazo.\\\\n\"\n",
            "            }\n",
            "        ]\n",
            "    }\n",
            "]\n"
          ]
        }
      ],
      "source": [
        "# import necessary modules.\n",
        "import base64\n",
        "import copy\n",
        "import json\n",
        "import pathlib\n",
        "import requests\n",
        "\n",
        "\n",
        "import PIL.Image\n",
        "import IPython.display\n",
        "from IPython.display import Markdown\n",
        "\n",
        "try:\n",
        "    # The SDK will automatically read it from the GOOGLE_API_KEY environment variable.\n",
        "    # In Colab get the key from Colab-secrets (\"🔑\" in the left panel).\n",
        "    import os\n",
        "    from google.colab import userdata\n",
        "\n",
        "    os.environ[\"GOOGLE_API_KEY\"] = userdata.get(\"GOOGLE_API_KEY\")\n",
        "except ImportError:\n",
        "    pass\n",
        "\n",
        "import google.generativeai as genai\n",
        "\n",
        "# Parse the arguments\n",
        "\n",
        "model = 'gemini-1.5-flash' # @param {isTemplate: true}\n",
        "contents_b64 = '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' # @param {isTemplate: true}\n",
        "generation_config_b64 = 'eyJ0ZW1wZXJhdHVyZSI6MSwidG9wX3AiOjAuOTUsInRvcF9rIjo0MCwibWF4X291dHB1dF90b2tlbnMiOjgxOTJ9' # @param {isTemplate: true}\n",
        "safety_settings_b64 = \"e30=\"  # @param {isTemplate: true}\n",
        "\n",
        "gais_contents = json.loads(base64.b64decode(contents_b64))\n",
        "\n",
        "generation_config = json.loads(base64.b64decode(generation_config_b64))\n",
        "safety_settings = json.loads(base64.b64decode(safety_settings_b64))\n",
        "\n",
        "stream = False\n",
        "\n",
        "# Convert and upload the files\n",
        "\n",
        "tempfiles = pathlib.Path(f\"tempfiles\")\n",
        "tempfiles.mkdir(parents=True, exist_ok=True)\n",
        "\n",
        "\n",
        "drive = None\n",
        "def upload_file_data(file_data, index):\n",
        "    \"\"\"Upload files to the Files API.\n",
        "\n",
        "    For each file, Google AI Studio either sent:\n",
        "    - a Google Drive ID,\n",
        "    - a URL,\n",
        "    - a file path, or\n",
        "    - The raw bytes (`inline_data`).\n",
        "\n",
        "    The API only understands `inline_data` or it's Files API.\n",
        "    This code, uploads files to the files API where the API can access them.\n",
        "    \"\"\"\n",
        "\n",
        "    mime_type = file_data[\"mime_type\"]\n",
        "    if drive_id := file_data.pop(\"drive_id\", None):\n",
        "        if drive is None:\n",
        "          from google.colab import drive\n",
        "          drive.mount(\"/gdrive\")\n",
        "\n",
        "        path = next(\n",
        "            pathlib.Path(f\"/gdrive/.shortcut-targets-by-id/{drive_id}\").glob(\"*\")\n",
        "        )\n",
        "        print(\"Uploading:\", str(path))\n",
        "        file_info = genai.upload_file(path=path, mime_type=mime_type)\n",
        "        file_data[\"file_uri\"] = file_info.uri\n",
        "        return\n",
        "\n",
        "    if url := file_data.pop(\"url\", None):\n",
        "        response = requests.get(url)\n",
        "        data = response.content\n",
        "        name = url.split(\"/\")[-1]\n",
        "        path = tempfiles / str(index)\n",
        "        path.write_bytes(data)\n",
        "        print(\"Uploading:\", url)\n",
        "        file_info = genai.upload_file(path, display_name=name, mime_type=mime_type)\n",
        "        file_data[\"file_uri\"] = file_info.uri\n",
        "        return\n",
        "\n",
        "    if name := file_data.get(\"filename\", None):\n",
        "        if not pathlib.Path(name).exists():\n",
        "            raise IOError(\n",
        "                f\"local file: `{name}` does not exist. You can upload files \"\n",
        "                'to Colab using the file manager (\"📁 Files\" in the left '\n",
        "                \"toolbar)\"\n",
        "            )\n",
        "        file_info = genai.upload_file(path, display_name=name, mime_type=mime_type)\n",
        "        file_data[\"file_uri\"] = file_info.uri\n",
        "        return\n",
        "\n",
        "    if \"inline_data\" in file_data:\n",
        "        return\n",
        "\n",
        "    raise ValueError(\"Either `drive_id`, `url` or `inline_data` must be provided.\")\n",
        "\n",
        "\n",
        "contents = copy.deepcopy(gais_contents)\n",
        "\n",
        "index = 0\n",
        "for content in contents:\n",
        "    for n, part in enumerate(content[\"parts\"]):\n",
        "        if file_data := part.get(\"file_data\", None):\n",
        "            upload_file_data(file_data, index)\n",
        "            index += 1\n",
        "\n",
        "import json\n",
        "print(json.dumps(contents, indent=4))"
      ]
    },
    {
      "cell_type": "markdown",
      "metadata": {
        "id": "E7zAD69vE92b"
      },
      "source": [
        "## Call `generate_content`"
      ]
    },
    {
      "cell_type": "code",
      "execution_count": 2,
      "metadata": {
        "id": "LB2LxPmAB95V",
        "colab": {
          "base_uri": "https://localhost:8080/",
          "height": 162
        },
        "outputId": "0bc38e88-bf5c-4c71-d9cb-586877550b72"
      },
      "outputs": [
        {
          "output_type": "display_data",
          "data": {
            "text/plain": [
              "<IPython.core.display.Markdown object>"
            ],
            "text/markdown": "**Apps y Funciones Integradas (ejemplos):**\n\n* **Integración con Google Cloud Healthcare API:**  Para el análisis de imágenes médicas y procesamiento de datos de salud.\n* **Integración con Amazon Comprehend Medical:**  Para la extracción de información relevante de informes médicos y textos.\n* **Integración con Dialogflow o similar:**  Para construir el chatbot de respuestas automáticas a síntomas.\n* **Integración con Stripe o PayPal:**  Para procesar pagos de consultas.\n\n\nEsta descripción detalla la idea principal de la aplicación. Un desarrollo real requeriría un equipo multidisciplinario, un extenso plan de desarrollo, y una considerable inversión de tiempo y recursos.\n"
          },
          "metadata": {}
        }
      ],
      "source": [
        "from IPython.display import display\n",
        "from IPython.display import Markdown\n",
        "\n",
        "# Call the model and print the response.\n",
        "gemini = genai.GenerativeModel(model_name=model)\n",
        "\n",
        "response = gemini.generate_content(\n",
        "    contents,\n",
        "    generation_config=generation_config,\n",
        "    safety_settings=safety_settings,\n",
        "    stream=stream,\n",
        ")\n",
        "\n",
        "display(Markdown(response.text))"
      ]
    },
    {
      "cell_type": "markdown",
      "metadata": {
        "id": "9c9d345e9868"
      },
      "source": [
        "<table class=\"tfo-notebook-buttons\" align=\"left\">\n",
        "  <td>\n",
        "    <a target=\"_blank\" href=\"https://ai.google.dev/gemini-api/docs\"><img src=\"https://ai.google.dev/static/site-assets/images/docs/notebook-site-button.png\" height=\"32\" width=\"32\" />Docs on ai.google.dev</a>\n",
        "  </td>\n",
        "  <td>\n",
        "    <a target=\"_blank\" href=\"https://github.com/google-gemini/cookbook/blob/main/quickstarts\"><img src=\"https://www.tensorflow.org/images/GitHub-Mark-32px.png\" />More notebooks in the Cookbook</a>\n",
        "  </td>\n",
        "</table>"
      ]
    },
    {
      "cell_type": "markdown",
      "metadata": {
        "id": "F91AeeGO1ncU"
      },
      "source": [
        "## [optional] Show the conversation\n",
        "\n",
        "This section displays the conversation received from Google AI Studio."
      ]
    },
    {
      "cell_type": "code",
      "execution_count": null,
      "metadata": {
        "cellView": "form",
        "id": "yoL3p3KPylFW"
      },
      "outputs": [],
      "source": [
        "# @title Show the conversation, in colab.\n",
        "import mimetypes\n",
        "\n",
        "def show_file(file_data):\n",
        "    mime_type = file_data[\"mime_type\"]\n",
        "\n",
        "    if drive_id := file_data.get(\"drive_id\", None):\n",
        "        path = next(\n",
        "            pathlib.Path(f\"/gdrive/.shortcut-targets-by-id/{drive_id}\").glob(\"*\")\n",
        "        )\n",
        "        name = path\n",
        "        # data = path.read_bytes()\n",
        "        kwargs = {\"filename\": path}\n",
        "    elif url := file_data.get(\"url\", None):\n",
        "        name = url\n",
        "        kwargs = {\"url\": url}\n",
        "        # response = requests.get(url)\n",
        "        # data = response.content\n",
        "    elif data := file_data.get(\"inline_data\", None):\n",
        "        name = None\n",
        "        kwargs = {\"data\": data}\n",
        "    elif name := file_data.get(\"filename\", None):\n",
        "        if not pathlib.Path(name).exists():\n",
        "            raise IOError(\n",
        "                f\"local file: `{name}` does not exist. You can upload files to \"\n",
        "                'Colab using the file manager (\"📁 Files\"in the left toolbar)'\n",
        "            )\n",
        "    else:\n",
        "        raise ValueError(\"Either `drive_id`, `url` or `inline_data` must be provided.\")\n",
        "\n",
        "        print(f\"File:\\n    name: {name}\\n    mime_type: {mime_type}\\n\")\n",
        "        return\n",
        "\n",
        "    format = mimetypes.guess_extension(mime_type).strip(\".\")\n",
        "    if mime_type.startswith(\"image/\"):\n",
        "        image = IPython.display.Image(**kwargs, width=256)\n",
        "        IPython.display.display(image)\n",
        "        print()\n",
        "        return\n",
        "\n",
        "    if mime_type.startswith(\"audio/\"):\n",
        "        if len(data) < 2**12:\n",
        "            audio = IPython.display.Audio(**kwargs)\n",
        "            IPython.display.display(audio)\n",
        "            print()\n",
        "            return\n",
        "\n",
        "    if mime_type.startswith(\"video/\"):\n",
        "        if len(data) < 2**12:\n",
        "            audio = IPython.display.Video(**kwargs, mimetype=mime_type)\n",
        "            IPython.display.display(audio)\n",
        "            print()\n",
        "            return\n",
        "\n",
        "    print(f\"File:\\n    name: {name}\\n    mime_type: {mime_type}\\n\")\n",
        "\n",
        "\n",
        "for content in gais_contents:\n",
        "    if role := content.get(\"role\", None):\n",
        "        print(\"Role:\", role, \"\\n\")\n",
        "\n",
        "    for n, part in enumerate(content[\"parts\"]):\n",
        "        if text := part.get(\"text\", None):\n",
        "            print(text, \"\\n\")\n",
        "\n",
        "        elif file_data := part.get(\"file_data\", None):\n",
        "            show_file(file_data)\n",
        "\n",
        "    print(\"-\" * 80, \"\\n\")"
      ]
    }
  ],
  "metadata": {
    "colab": {
      "collapsed_sections": [
        "Tce3stUlHN0L"
      ],
      "name": "aistudio_gemini_prompt_freeform.ipynb",
      "toc_visible": true,
      "provenance": [],
      "include_colab_link": true
    },
    "kernelspec": {
      "display_name": "Python 3",
      "name": "python3"
    }
  },
  "nbformat": 4,
  "nbformat_minor": 0
}